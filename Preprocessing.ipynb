{
 "cells": [
  {
   "cell_type": "code",
   "execution_count": 1,
   "id": "e49b6e4b",
   "metadata": {
    "ExecuteTime": {
     "end_time": "2023-06-30T17:23:17.645795Z",
     "start_time": "2023-06-30T17:23:15.030904Z"
    },
    "scrolled": false
   },
   "outputs": [
    {
     "name": "stdout",
     "output_type": "stream",
     "text": [
      "Tensorflow v2.12.0\n"
     ]
    }
   ],
   "source": [
    "import glob\n",
    "import os\n",
    "import random\n",
    "\n",
    "import librosa as rosa\n",
    "import matplotlib.pyplot as plt\n",
    "import numpy as np\n",
    "import tensorflow as tf\n",
    "from collections import Counter\n",
    "from IPython.display import Audio, display\n",
    "from tensorflow.python.ops import gen_audio_ops\n",
    "from tqdm.notebook import tqdm\n",
    "\n",
    "\n",
    "print(f\"Tensorflow v{tf.__version__}\")"
   ]
  },
  {
   "cell_type": "code",
   "execution_count": 2,
   "id": "d27685b6",
   "metadata": {
    "ExecuteTime": {
     "end_time": "2023-06-30T17:23:20.193136Z",
     "start_time": "2023-06-30T17:23:17.647027Z"
    },
    "scrolled": false
   },
   "outputs": [],
   "source": [
    "DATA_DIR = \"data\"\n",
    "\n",
    "KOMPUTER_DIR = os.path.join(DATA_DIR, \"komputer\")\n",
    "GOOGLE_DIR = os.path.join(DATA_DIR, \"google\")\n",
    "ML_COMMON_DIR = os.path.join(DATA_DIR, \"ml_common\")\n",
    "NOISE_DIR = os.path.join(DATA_DIR, \"noise\")\n",
    "\n",
    "TARGET_WORD = \"komputer\"\n",
    "LABELS = [\"komputer\", \"unknown\", \"noise\"]\n",
    "\n",
    "SAMPLE_RATE = 16000\n",
    "FRAME_LENGTH = 320\n",
    "FRAME_STEP = 160\n",
    "\n",
    "POOLING_SIZE = [1, 6]"
   ]
  },
  {
   "cell_type": "code",
   "execution_count": 21,
   "id": "bf2db6b7",
   "metadata": {
    "ExecuteTime": {
     "end_time": "2023-06-30T17:23:20.198662Z",
     "start_time": "2023-06-30T17:23:20.194408Z"
    },
    "scrolled": false
   },
   "outputs": [],
   "source": [
    "def plot_audio(audio):\n",
    "    _, axe = plt.subplots(figsize=(8, 6))\n",
    "    axe.plot(audio)\n",
    "    axe.set_title(\"Wykres amplitudy dźwięku w dziedzinie czasu\")\n",
    "    axe.set_xlabel(\"Czas (s)\")\n",
    "    axe.set_ylabel(\"Amplituda\")\n",
    "    plt.show()\n",
    "    display(Audio(audio, rate=16000))\n",
    "\n",
    "\n",
    "def plot_spectrogram(spec, sample_rate=16000):\n",
    "    spec = np.squeeze(spec)\n",
    "    spec = np.rot90(spec, -1)\n",
    "    _, axe = plt.subplots(figsize=(8, 6))\n",
    "    im = axe.imshow(spec, aspect=\"auto\", origin=\"lower\", cmap=\"jet\")\n",
    "\n",
    "    n_freq_bins = spec.shape[0]\n",
    "    y_ticks = np.linspace(0, n_freq_bins - 1, 5).astype(int)\n",
    "    y_freqs = (y_ticks / (n_freq_bins - 1)) * (sample_rate / 2)\n",
    "    axe.set_yticks(y_ticks)\n",
    "    axe.set_yticklabels(y_freqs.astype(int))\n",
    "\n",
    "    axe.set_title(\"Spektrogram\")\n",
    "    axe.set_xlabel(\"Czas (s)\")\n",
    "    axe.set_ylabel(\"Częstotliwość (Hz)\")\n",
    "\n",
    "    plt.colorbar(im, ax=axe, label=\"Amplituda\")\n",
    "    plt.show()"
   ]
  },
  {
   "cell_type": "code",
   "execution_count": 22,
   "id": "aa990436",
   "metadata": {},
   "outputs": [],
   "source": [
    "def normalize_audio(audio):\n",
    "    audio = audio - np.mean(audio)\n",
    "    audio = audio / np.max(np.abs(audio))\n",
    "    return audio\n",
    "\n",
    "\n",
    "def cut_audio_length(audio, length=SAMPLE_RATE):\n",
    "    audio_len = len(audio)\n",
    "    if audio_len < length:\n",
    "        audio = np.append(audio, np.zeros(length - audio_len))\n",
    "    audio = audio[:length]\n",
    "    return audio\n",
    "\n",
    "\n",
    "def cure_audio(audio):\n",
    "    audio = cut_audio_length(audio)\n",
    "    audio = normalize_audio(audio)\n",
    "    return tf.cast(audio, tf.float32)\n",
    "\n",
    "\n",
    "def get_spectrogram(audio):\n",
    "    spec = gen_audio_ops.audio_spectrogram(\n",
    "        tf.expand_dims(audio, -1),\n",
    "        window_size=FRAME_LENGTH,\n",
    "        stride=FRAME_STEP,\n",
    "        magnitude_squared=True,\n",
    "    )\n",
    "    spec = tf.expand_dims(spec, -1)\n",
    "    spec = tf.nn.pool(\n",
    "        input=spec,\n",
    "        window_shape=POOLING_SIZE,\n",
    "        strides=POOLING_SIZE,\n",
    "        pooling_type=\"AVG\",\n",
    "        padding=\"SAME\",\n",
    "    )\n",
    "    spec = np.squeeze(spec, axis=0)\n",
    "    spec = np.log10(spec + 1e-6)\n",
    "    return spec"
   ]
  },
  {
   "cell_type": "code",
   "execution_count": 23,
   "id": "28d488f9",
   "metadata": {
    "ExecuteTime": {
     "end_time": "2023-06-30T17:23:22.905486Z",
     "start_time": "2023-06-30T17:23:22.903607Z"
    }
   },
   "outputs": [],
   "source": [
    "def process_files(files_path, max_files=None):\n",
    "    spectrograms = []\n",
    "    files = glob.glob(f\"{files_path}/*.wav\")\n",
    "    random.shuffle(files)\n",
    "    if max_files:\n",
    "        files = files[:max_files]\n",
    "\n",
    "    for file in tqdm(files, desc=f\"Generating spectrograms from {files_path}\"):\n",
    "        file_name = file.split(\"/\")[-1]\n",
    "        for label_idx, label in enumerate(LABELS):\n",
    "            if file_name.startswith(label):\n",
    "                audio, _ = rosa.load(file, sr=SAMPLE_RATE, mono=True)\n",
    "                audio = cure_audio(audio)\n",
    "                assert len(audio) == SAMPLE_RATE\n",
    "                spectrograms.append((get_spectrogram(audio), label_idx))\n",
    "\n",
    "    return spectrograms"
   ]
  },
  {
   "cell_type": "code",
   "execution_count": 7,
   "id": "fbbc2a24",
   "metadata": {},
   "outputs": [
    {
     "data": {
      "application/vnd.jupyter.widget-view+json": {
       "model_id": "7006206608ad4e5cb311a32e1f023fc8",
       "version_major": 2,
       "version_minor": 0
      },
      "text/plain": [
       "Generating spectrograms from data/komputer:   0%|          | 0/51108 [00:00<?, ?it/s]"
      ]
     },
     "metadata": {},
     "output_type": "display_data"
    },
    {
     "data": {
      "application/vnd.jupyter.widget-view+json": {
       "model_id": "99afbf2601e14d4bb486376a50ca8362",
       "version_major": 2,
       "version_minor": 0
      },
      "text/plain": [
       "Generating spectrograms from data/noise:   0%|          | 0/27401 [00:00<?, ?it/s]"
      ]
     },
     "metadata": {},
     "output_type": "display_data"
    },
    {
     "data": {
      "application/vnd.jupyter.widget-view+json": {
       "model_id": "1c7fce26763143f1a0b1b812b318ce5e",
       "version_major": 2,
       "version_minor": 0
      },
      "text/plain": [
       "Generating spectrograms from data/ml_common:   0%|          | 0/200000 [00:00<?, ?it/s]"
      ]
     },
     "metadata": {},
     "output_type": "display_data"
    }
   ],
   "source": [
    "komputer_set = process_files(KOMPUTER_DIR)\n",
    "noise_set = process_files(NOISE_DIR)\n",
    "google_set = process_files(GOOGLE_DIR)\n",
    "ml_common_set = process_files(ML_COMMON_DIR, max_files=200000)"
   ]
  },
  {
   "cell_type": "code",
   "execution_count": 8,
   "id": "cc9239ff",
   "metadata": {},
   "outputs": [],
   "source": [
    "# ml_common_x, ml_common_y = zip(*ml_common_set)\n",
    "# ml_common_x = np.array(ml_common_x)\n",
    "# ml_common_y = np.array(ml_common_y)\n",
    "\n",
    "# komputer_x, komputer_y = zip(*komputer_set)\n",
    "# komputer_x = np.array(komputer_x)\n",
    "# komputer_y = np.array(komputer_y)\n",
    "\n",
    "# noise_x, noise_y = zip(*noise_set)\n",
    "# noise_x = np.array(noise_x)\n",
    "# noise_y = np.array(noise_y)\n",
    "\n",
    "# np.savez(\"ml_common.npz\", x=ml_common_x, y=ml_common_y)\n",
    "# np.savez(\"komputer.npz\", x=komputer_x, y=komputer_y)\n",
    "# np.savez(\"noise.npz\", x=noise_x, y=noise_y)"
   ]
  },
  {
   "cell_type": "code",
   "execution_count": 9,
   "id": "fcf9cf06",
   "metadata": {},
   "outputs": [
    {
     "name": "stdout",
     "output_type": "stream",
     "text": [
      "Total spectrograms: 278509\n"
     ]
    }
   ],
   "source": [
    "spectrograms = []\n",
    "spectrograms.extend(komputer_set)\n",
    "spectrograms.extend(noise_set)\n",
    "spectrograms.extend(google_set)\n",
    "spectrograms.extend(ml_common_set)\n",
    "\n",
    "print(f\"Total spectrograms: {len(spectrograms)}\")"
   ]
  },
  {
   "cell_type": "code",
   "execution_count": 10,
   "id": "e3423155",
   "metadata": {
    "ExecuteTime": {
     "end_time": "2023-06-30T17:37:36.864130Z",
     "start_time": "2023-06-30T17:37:36.569750Z"
    },
    "scrolled": false
   },
   "outputs": [],
   "source": [
    "random.shuffle(spectrograms)"
   ]
  },
  {
   "cell_type": "code",
   "execution_count": 11,
   "id": "94b52416",
   "metadata": {},
   "outputs": [
    {
     "data": {
      "image/png": "[encoded data removed]",
      "text/plain": [
       "<Figure size 640x480 with 1 Axes>"
      ]
     },
     "metadata": {},
     "output_type": "display_data"
    }
   ],
   "source": [
    "label_indices = [label_idx for _, label_idx in spectrograms]\n",
    "label_counts = Counter(label_indices)\n",
    "\n",
    "bars = plt.bar(label_counts.keys(), label_counts.values())\n",
    "\n",
    "plt.title(\"Number of Spectrograms per Label\")\n",
    "plt.xlabel(\"Label Index\")\n",
    "plt.ylabel(\"Number of Spectrograms\")\n",
    "plt.xticks(list(label_counts.keys()))\n",
    "\n",
    "for bar, count in zip(bars, label_counts.values()):\n",
    "    plt.text(\n",
    "        bar.get_x() + bar.get_width() / 2 - 0.1, bar.get_height() + 0.1, str(count)\n",
    "    )\n",
    "\n",
    "plt.show()"
   ]
  },
  {
   "cell_type": "code",
   "execution_count": 12,
   "id": "3b8d102a",
   "metadata": {
    "ExecuteTime": {
     "end_time": "2023-06-30T17:37:37.401821Z",
     "start_time": "2023-06-30T17:37:36.865271Z"
    },
    "scrolled": false
   },
   "outputs": [],
   "source": [
    "specs, labels = zip(*spectrograms)"
   ]
  },
  {
   "cell_type": "code",
   "execution_count": 13,
   "id": "db65487b",
   "metadata": {
    "ExecuteTime": {
     "end_time": "2023-06-30T17:37:41.684522Z",
     "start_time": "2023-06-30T17:37:37.403547Z"
    },
    "scrolled": false
   },
   "outputs": [],
   "source": [
    "specs = np.array(specs)\n",
    "labels = np.array(labels)"
   ]
  },
  {
   "cell_type": "code",
   "execution_count": 14,
   "id": "cadd4520",
   "metadata": {
    "ExecuteTime": {
     "end_time": "2023-06-30T17:37:41.714869Z",
     "start_time": "2023-06-30T17:37:41.690021Z"
    },
    "scrolled": false
   },
   "outputs": [],
   "source": [
    "no_specs = len(specs)\n",
    "train_end = int(no_specs * 0.7)\n",
    "val_end = int(no_specs * 0.85)\n",
    "\n",
    "ds_x = np.array_split(specs, [train_end, val_end])\n",
    "ds_y = np.array_split(labels, [train_end, val_end])"
   ]
  },
  {
   "cell_type": "code",
   "execution_count": 15,
   "id": "a6c00565",
   "metadata": {
    "ExecuteTime": {
     "end_time": "2023-06-30T17:38:16.842218Z",
     "start_time": "2023-06-30T17:37:46.943744Z"
    },
    "scrolled": false
   },
   "outputs": [],
   "source": [
    "np.savez_compressed(\"train.npz\", x=ds_x[0], y=ds_y[0])\n",
    "np.savez_compressed(\"val.npz\", x=ds_x[1], y=ds_y[1])\n",
    "np.savez_compressed(\"test.npz\", x=ds_x[2], y=ds_y[2])"
   ]
  },
  {
   "cell_type": "code",
   "execution_count": null,
   "id": "af09f9b0",
   "metadata": {},
   "outputs": [],
   "source": []
  }
 ],
 "metadata": {
  "kernelspec": {
   "display_name": "Python 3 (ipykernel)",
   "language": "python",
   "name": "python3"
  },
  "language_info": {
   "codemirror_mode": {
    "name": "ipython",
    "version": 3
   },
   "file_extension": ".py",
   "mimetype": "text/x-python",
   "name": "python",
   "nbconvert_exporter": "python",
   "pygments_lexer": "ipython3",
   "version": "3.10.11"
  }
 },
 "nbformat": 4,
 "nbformat_minor": 5
}
